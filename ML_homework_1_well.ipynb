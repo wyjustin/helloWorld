{
  "nbformat": 4,
  "nbformat_minor": 0,
  "metadata": {
    "colab": {
      "name": "ML_homework_1_well.ipynb",
      "provenance": [],
      "collapsed_sections": [],
      "include_colab_link": true
    },
    "kernelspec": {
      "name": "python3",
      "display_name": "Python 3"
    },
    "language_info": {
      "name": "python"
    }
  },
  "cells": [
    {
      "cell_type": "markdown",
      "metadata": {
        "id": "view-in-github",
        "colab_type": "text"
      },
      "source": [
        "<a href=\"https://colab.research.google.com/github/wyjustin/helloWorld/blob/master/ML_homework_1_well.ipynb\" target=\"_parent\"><img src=\"https://colab.research.google.com/assets/colab-badge.svg\" alt=\"Open In Colab\"/></a>"
      ]
    },
    {
      "cell_type": "markdown",
      "metadata": {
        "id": "4YMdLZ5bsnwN"
      },
      "source": [
        "# 最原始的python 版本"
      ]
    },
    {
      "cell_type": "code",
      "metadata": {
        "id": "V85jwvtzux8Q"
      },
      "source": [
        "import time\n",
        "import pandas as pd\n",
        "import numpy as np\n",
        "\n",
        "def target_mean_v1(data, y_name, x_name):\n",
        "    result = np.zeros(data.shape[0])\n",
        "    for i in range(data.shape[0]):\n",
        "        groupby_result = data[data.index != i].groupby([x_name], as_index=False).agg(['mean', 'count'])\n",
        "        result[i] = groupby_result.loc[groupby_result.index == data.loc[i, x_name], (y_name, 'mean')]\n",
        "    return result\n",
        "\n",
        "def target_mean_v2(data, y_name, x_name):\n",
        "    result = np.zeros(data.shape[0])\n",
        "    value_dict = dict()\n",
        "    count_dict = dict()\n",
        "    for i in range(data.shape[0]):\n",
        "        if data.loc[i, x_name] not in value_dict.keys():\n",
        "            value_dict[data.loc[i, x_name]] = data.loc[i, y_name]\n",
        "            count_dict[data.loc[i, x_name]] = 1\n",
        "        else:\n",
        "            value_dict[data.loc[i, x_name]] += data.loc[i, y_name]\n",
        "            count_dict[data.loc[i, x_name]] += 1\n",
        "    for i in range(data.shape[0]):\n",
        "        result[i] = (value_dict[data.loc[i, x_name]] - data.loc[i, y_name]) / (count_dict[data.loc[i, x_name]] - 1)\n",
        "    return result\n"
      ],
      "execution_count": 3,
      "outputs": []
    },
    {
      "cell_type": "code",
      "metadata": {
        "colab": {
          "base_uri": "https://localhost:8080/"
        },
        "id": "P7a9G2SMvDCv",
        "outputId": "9c15dd90-46aa-46ba-ebe2-7d1c61f33dae"
      },
      "source": [
        "y = np.random.randint(2, size=(5000, 1))\n",
        "x = np.random.randint(10, size=(5000, 1))\n",
        "data = pd.DataFrame(np.concatenate([y, x], axis=1), columns=['y', 'x'])\n",
        "\n",
        "start_time = time.time()\n",
        "result = target_mean_v1(data, 'y', 'x')\n",
        "end_time = time.time()\n",
        "    \n",
        "print(\"Python total time:\", (end_time - start_time))\n",
        "print(\"Python result:\")\n",
        "print(result)\n",
        "print(\"\\n\")\n",
        "\n",
        "start_time = time.time()\n",
        "result = target_mean_v2(data, 'y', 'x')\n",
        "end_time = time.time()\n",
        "    \n",
        "print(\"Python V2 total time:\", (end_time - start_time))\n",
        "print(\"Python V1 result:\")\n",
        "print(result)"
      ],
      "execution_count": 4,
      "outputs": [
        {
          "output_type": "stream",
          "text": [
            "Python total time: 22.688278436660767\n",
            "Python result:\n",
            "[0.48316832 0.52559055 0.5030426  ... 0.49233716 0.4858871  0.48041237]\n",
            "\n",
            "\n",
            "Python V2 total time: 0.31438255310058594\n",
            "Python V1 result:\n",
            "[0.48316832 0.52559055 0.5030426  ... 0.49233716 0.4858871  0.48041237]\n"
          ],
          "name": "stdout"
        }
      ]
    },
    {
      "cell_type": "markdown",
      "metadata": {
        "id": "ykwZf-D6oeF5"
      },
      "source": [
        "# 课堂上cython的版本"
      ]
    },
    {
      "cell_type": "code",
      "metadata": {
        "id": "YoTbToX8xHd2"
      },
      "source": [
        "%reload_ext cython"
      ],
      "execution_count": 5,
      "outputs": []
    },
    {
      "cell_type": "code",
      "metadata": {
        "id": "krQZcaYZkuCq"
      },
      "source": [
        "%%cython\n",
        "\n",
        "import numpy as np\n",
        "cimport numpy as cnp\n",
        "\n",
        "cpdef target_mean_v3(data, y_name, x_name):\n",
        "    cdef long nrow = data.shape[0]\n",
        "    cdef cnp.ndarray[double] result = np.asfortranarray(np.zeros(nrow), dtype=np.float64)\n",
        "    cdef cnp.ndarray[double] x = np.asfortranarray(data[x_name], dtype=np.float64)\n",
        "    cdef cnp.ndarray[double] y = np.asfortranarray(data[y_name], dtype=np.float64)\n",
        "    \n",
        "    cdef dict value_dic = dict()\n",
        "    cdef dict count_dic = dict()\n",
        "\n",
        "    for i in range(nrow):\n",
        "      if x[i] not in value_dic.keys():\n",
        "        value_dic[x[i]] = y[i]\n",
        "        count_dic[x[i]] = 1\n",
        "      else:\n",
        "        value_dic[x[i]] += y[i]\n",
        "        count_dic[x[i]] += 1\n",
        "    for i in range(nrow):\n",
        "      result[i] = (value_dic[x[i]] - y[i]) / (count_dic[x[i]] - 1)\n",
        "    \n",
        "    return result"
      ],
      "execution_count": 6,
      "outputs": []
    },
    {
      "cell_type": "code",
      "metadata": {
        "colab": {
          "base_uri": "https://localhost:8080/"
        },
        "id": "TOKmQC76k94n",
        "outputId": "910f9ae7-043f-41c8-ad7c-a9090698c34e"
      },
      "source": [
        "start_time = time.time()\n",
        "result = target_mean_v3(data, 'y', 'x')\n",
        "end_time = time.time()\n",
        "\n",
        "print(\"total time:\", (end_time - start_time))\n",
        "print(result)"
      ],
      "execution_count": 7,
      "outputs": [
        {
          "output_type": "stream",
          "text": [
            "total time: 0.003954887390136719\n",
            "[0.48316832 0.52559055 0.5030426  ... 0.49233716 0.4858871  0.48041237]\n"
          ],
          "name": "stdout"
        }
      ]
    },
    {
      "cell_type": "markdown",
      "metadata": {
        "id": "rJ3LO6nWk88n"
      },
      "source": [
        "# 个人优化的几个版本\n",
        "\n",
        "1. 继续使用dict，做如下优化的版本（v1）\n",
        "  - 数据类型根据题目要求可以指定为int\n",
        "  - range函数替换\n",
        "\n",
        "2. 替换dict为C++的unordered_map的版本\n",
        "  - 数据类型根据题目要求可以指定为int\n",
        "  - range函数替换和不替换（v2和v3两种），两个差不多，v3版本一般情况下比v2快\n",
        "\n",
        "3. 尝试使用pypm的并行，不作为作业提交的版本\n",
        "  - 发现在简单任务，而且免费colab的2个cpu的情况下，并行效果不佳，反而比v2和v3还要慢\n",
        "\n",
        "所以快的原因总结下：\n",
        "1. int类型计算时比double的快，与计算机的存储方式和计算方式有关\n",
        "2. 更加精简的直接的命令比封装的命令要快，相当于C++里面的inline的效果\n"
      ]
    },
    {
      "cell_type": "code",
      "metadata": {
        "id": "_Jh4NWQ6zuwH"
      },
      "source": [
        "%reload_ext cython"
      ],
      "execution_count": 8,
      "outputs": []
    },
    {
      "cell_type": "code",
      "metadata": {
        "colab": {
          "base_uri": "https://localhost:8080/"
        },
        "id": "z7BgZf8W6_Ry",
        "outputId": "8e0cb373-1aa7-45a7-8861-aa73f9804872"
      },
      "source": [
        "!pip install pymp-pypi"
      ],
      "execution_count": 9,
      "outputs": [
        {
          "output_type": "stream",
          "text": [
            "Collecting pymp-pypi\n",
            "  Downloading https://files.pythonhosted.org/packages/e9/ff/8ec07d0c901d4161012ae505d47b459dd30d5112b8ba4abca33811e62243/pymp_pypi-0.4.3-py3-none-any.whl\n",
            "Installing collected packages: pymp-pypi\n",
            "Successfully installed pymp-pypi-0.4.3\n"
          ],
          "name": "stdout"
        }
      ]
    },
    {
      "cell_type": "code",
      "metadata": {
        "colab": {
          "base_uri": "https://localhost:8080/"
        },
        "id": "GxL9hI6Q_pPy",
        "outputId": "b66eb862-d757-40bd-d83d-7264abb8eb10"
      },
      "source": [
        "! cat /proc/cpuinfo"
      ],
      "execution_count": null,
      "outputs": [
        {
          "output_type": "stream",
          "text": [
            "processor\t: 0\n",
            "vendor_id\t: GenuineIntel\n",
            "cpu family\t: 6\n",
            "model\t\t: 79\n",
            "model name\t: Intel(R) Xeon(R) CPU @ 2.20GHz\n",
            "stepping\t: 0\n",
            "microcode\t: 0x1\n",
            "cpu MHz\t\t: 2200.190\n",
            "cache size\t: 56320 KB\n",
            "physical id\t: 0\n",
            "siblings\t: 2\n",
            "core id\t\t: 0\n",
            "cpu cores\t: 1\n",
            "apicid\t\t: 0\n",
            "initial apicid\t: 0\n",
            "fpu\t\t: yes\n",
            "fpu_exception\t: yes\n",
            "cpuid level\t: 13\n",
            "wp\t\t: yes\n",
            "flags\t\t: fpu vme de pse tsc msr pae mce cx8 apic sep mtrr pge mca cmov pat pse36 clflush mmx fxsr sse sse2 ss ht syscall nx pdpe1gb rdtscp lm constant_tsc rep_good nopl xtopology nonstop_tsc cpuid tsc_known_freq pni pclmulqdq ssse3 fma cx16 pcid sse4_1 sse4_2 x2apic movbe popcnt aes xsave avx f16c rdrand hypervisor lahf_lm abm 3dnowprefetch invpcid_single ssbd ibrs ibpb stibp fsgsbase tsc_adjust bmi1 hle avx2 smep bmi2 erms invpcid rtm rdseed adx smap xsaveopt arat md_clear arch_capabilities\n",
            "bugs\t\t: cpu_meltdown spectre_v1 spectre_v2 spec_store_bypass l1tf mds swapgs taa\n",
            "bogomips\t: 4400.38\n",
            "clflush size\t: 64\n",
            "cache_alignment\t: 64\n",
            "address sizes\t: 46 bits physical, 48 bits virtual\n",
            "power management:\n",
            "\n",
            "processor\t: 1\n",
            "vendor_id\t: GenuineIntel\n",
            "cpu family\t: 6\n",
            "model\t\t: 79\n",
            "model name\t: Intel(R) Xeon(R) CPU @ 2.20GHz\n",
            "stepping\t: 0\n",
            "microcode\t: 0x1\n",
            "cpu MHz\t\t: 2200.190\n",
            "cache size\t: 56320 KB\n",
            "physical id\t: 0\n",
            "siblings\t: 2\n",
            "core id\t\t: 0\n",
            "cpu cores\t: 1\n",
            "apicid\t\t: 1\n",
            "initial apicid\t: 1\n",
            "fpu\t\t: yes\n",
            "fpu_exception\t: yes\n",
            "cpuid level\t: 13\n",
            "wp\t\t: yes\n",
            "flags\t\t: fpu vme de pse tsc msr pae mce cx8 apic sep mtrr pge mca cmov pat pse36 clflush mmx fxsr sse sse2 ss ht syscall nx pdpe1gb rdtscp lm constant_tsc rep_good nopl xtopology nonstop_tsc cpuid tsc_known_freq pni pclmulqdq ssse3 fma cx16 pcid sse4_1 sse4_2 x2apic movbe popcnt aes xsave avx f16c rdrand hypervisor lahf_lm abm 3dnowprefetch invpcid_single ssbd ibrs ibpb stibp fsgsbase tsc_adjust bmi1 hle avx2 smep bmi2 erms invpcid rtm rdseed adx smap xsaveopt arat md_clear arch_capabilities\n",
            "bugs\t\t: cpu_meltdown spectre_v1 spectre_v2 spec_store_bypass l1tf mds swapgs taa\n",
            "bogomips\t: 4400.38\n",
            "clflush size\t: 64\n",
            "cache_alignment\t: 64\n",
            "address sizes\t: 46 bits physical, 48 bits virtual\n",
            "power management:\n",
            "\n"
          ],
          "name": "stdout"
        }
      ]
    },
    {
      "cell_type": "code",
      "metadata": {
        "id": "Jf9BzEv6fXzR"
      },
      "source": [
        "%%cython --cplus\n",
        "\n",
        "import time\n",
        "import pandas as pd\n",
        "import numpy as np\n",
        "cimport numpy as cnp\n",
        "from libcpp.unordered_map cimport unordered_map\n",
        "from cython cimport parallel\n",
        "import pymp\n",
        "\n",
        "cpdef target_mean_v_teacher(data, y_name, x_name):\n",
        "    cdef long nrow = data.shape[0]\n",
        "    cdef cnp.ndarray[double] result = np.asfortranarray(np.zeros(nrow), dtype=np.float64)\n",
        "    cdef cnp.ndarray[double] x = np.asfortranarray(data[x_name], dtype=np.float64)\n",
        "    cdef cnp.ndarray[double] y = np.asfortranarray(data[y_name], dtype=np.float64)\n",
        "    \n",
        "    cdef dict value_dic = dict()\n",
        "    cdef dict count_dic = dict()\n",
        "\n",
        "    for i in range(nrow):\n",
        "      if x[i] not in value_dic.keys():\n",
        "        value_dic[x[i]] = y[i]\n",
        "        count_dic[x[i]] = 1\n",
        "      else:\n",
        "        value_dic[x[i]] += y[i]\n",
        "        count_dic[x[i]] += 1\n",
        "    for i in range(nrow):\n",
        "      result[i] = (value_dic[x[i]] - y[i]) / (count_dic[x[i]] - 1)\n",
        "    \n",
        "    return result\n",
        "\n",
        "cpdef target_mean_v_new1(data, y_name, x_name):\n",
        "    cdef int nrow = data.shape[0]\n",
        "    cdef cnp.ndarray[double] result = np.asfortranarray(np.zeros(nrow), dtype=np.float64)\n",
        "    cdef cnp.ndarray[int] x = np.asfortranarray(data[x_name], dtype=np.int32)\n",
        "    cdef cnp.ndarray[int] y = np.asfortranarray(data[y_name], dtype=np.int32)\n",
        "    \n",
        "    cdef dict value_dic = dict()\n",
        "    cdef dict count_dic = dict()\n",
        "\n",
        "    for i from 0 <= i < nrow by 1:\n",
        "      if x[i] not in value_dic.keys():\n",
        "        value_dic[x[i]] = y[i]\n",
        "        count_dic[x[i]] = 1\n",
        "      else:\n",
        "        value_dic[x[i]] += y[i]\n",
        "        count_dic[x[i]] += 1\n",
        "    for i from 0 <= i < nrow by 1:\n",
        "      result[i] = (value_dic[x[i]] - y[i]) / (count_dic[x[i]] - 1)\n",
        "    \n",
        "    return result\n",
        "\n",
        "cpdef target_mean_v_cplus(data, y_name, x_name):\n",
        "    cdef int nrow = data.shape[0]\n",
        "    cdef cnp.ndarray[double] result = np.asfortranarray(np.zeros(nrow), dtype=np.float64)\n",
        "    cdef cnp.ndarray[int] x = np.asfortranarray(data[x_name], dtype=np.int32)\n",
        "    cdef cnp.ndarray[int] y = np.asfortranarray(data[y_name], dtype=np.int32)\n",
        "    \n",
        "    cdef unordered_map[int, int] value_map\n",
        "    cdef unordered_map[int, int] count_map\n",
        "\n",
        "    for i in range(nrow):\n",
        "      if value_map.count(x[i]):\n",
        "        value_map[x[i]] += y[i]\n",
        "        count_map[x[i]] += 1\n",
        "      else:\n",
        "        value_map[x[i]] = y[i]\n",
        "        count_map[x[i]] = 1\n",
        "\n",
        "    for i in range(nrow):\n",
        "      result[i] = (value_map[x[i]] - y[i]) / (count_map[x[i]] - 1)\n",
        "    \n",
        "    return result\n",
        "\n",
        "cpdef target_mean_v_cplus_last(data, y_name, x_name):\n",
        "    cdef int nrow = data.shape[0]\n",
        "    cdef cnp.ndarray[double] result = np.asfortranarray(np.zeros(nrow), dtype=np.float64)\n",
        "    cdef cnp.ndarray[int] x = np.asfortranarray(data[x_name], dtype=np.int32)\n",
        "    cdef cnp.ndarray[int] y = np.asfortranarray(data[y_name], dtype=np.int32)\n",
        "    \n",
        "    cdef unordered_map[int, int] value_map\n",
        "    cdef unordered_map[int, int] count_map\n",
        "\n",
        "    for i from 0 <= i < nrow by 1:\n",
        "      if value_map.count(x[i]):\n",
        "        value_map[x[i]] += y[i]\n",
        "        count_map[x[i]] += 1\n",
        "      else:\n",
        "        value_map[x[i]] = y[i]\n",
        "        count_map[x[i]] = 1\n",
        "\n",
        "    for i from 0 <= i < nrow by 1:\n",
        "      result[i] = (value_map[x[i]] - y[i]) / (count_map[x[i]] - 1)\n",
        "    \n",
        "    return result\n",
        "\n",
        "cpdef target_mean_v_cplus_test_pymp(data, y_name, x_name):\n",
        "    cdef int nrow = data.shape[0]\n",
        "    cdef cnp.ndarray[double] result = pymp.shared.array((nrow,), dtype=np.float64)\n",
        "    cdef cnp.ndarray[int] x = np.asfortranarray(data[x_name], dtype=np.int32)\n",
        "    cdef cnp.ndarray[int] y = np.asfortranarray(data[y_name], dtype=np.int32)\n",
        "    \n",
        "    cdef unordered_map[int, int] value_map\n",
        "    cdef unordered_map[int, int] count_map\n",
        "\n",
        "    for i from 0 <= i < nrow by 1:\n",
        "      if value_map.count(x[i]):\n",
        "        value_map[x[i]] = value_map[x[i]] + y[i]\n",
        "        count_map[x[i]] += 1\n",
        "      else:\n",
        "        value_map[x[i]] = y[i]\n",
        "        count_map[x[i]] = 1\n",
        "\n",
        "    with pymp.Parallel(2) as p:\n",
        "      for i in p.range(0, nrow):\n",
        "        result[i] = (value_map[x[i]] - y[i]) / (count_map[x[i]] - 1)\n",
        "    \n",
        "    return result\n",
        "\n"
      ],
      "execution_count": 10,
      "outputs": []
    },
    {
      "cell_type": "code",
      "metadata": {
        "colab": {
          "base_uri": "https://localhost:8080/"
        },
        "id": "Tl9RUbuSiaeX",
        "outputId": "61ac3f87-649d-4aa7-ebac-3d902b66afb6"
      },
      "source": [
        "start_time = time.time()\n",
        "result_ori = target_mean_v_teacher(data, 'y', 'x')\n",
        "end_time = time.time()\n",
        "\n",
        "print(\"teacher's version total time:\", (end_time - start_time))\n",
        "print(result)\n",
        "\n",
        "start_time = time.time()\n",
        "result_new1 = target_mean_v_new1(data, 'y', 'x')\n",
        "end_time = time.time()\n",
        "\n",
        "print(\"new1 version's total time:\", (end_time - start_time))\n",
        "print(result)\n",
        "\n",
        "start_time = time.time()\n",
        "result_cplus = target_mean_v_cplus(data, 'y', 'x')\n",
        "end_time = time.time()\n",
        "\n",
        "print(\"cplus version's total time:\", (end_time - start_time))\n",
        "print(result)\n",
        "\n",
        "start_time = time.time()\n",
        "result_cplus_last = target_mean_v_cplus_last(data, 'y', 'x')\n",
        "end_time = time.time()\n",
        "\n",
        "print(\"cplus last version's total time:\", (end_time - start_time))\n",
        "print(result)\n",
        "\n",
        "start_time = time.time()\n",
        "result_cplus_last_pymp = target_mean_v_cplus_test_pymp(data, 'y', 'x')\n",
        "end_time = time.time()\n",
        "\n",
        "print(\"cplus last add version's total time:\", (end_time - start_time))\n",
        "print(result)\n",
        "\n",
        "diffv1 = np.linalg.norm(result_new1 - result_ori)\n",
        "diffv2 = np.linalg.norm(result_cplus - result_ori)\n",
        "diffv3 = np.linalg.norm(result_cplus_last - result_ori)\n",
        "diffv4 = np.linalg.norm(result_cplus_last_pymp - result_ori)\n",
        "print(\"v1's diff:\", diffv1)\n",
        "print(\"v2's diff:\", diffv2)\n",
        "print(\"v3's diff:\", diffv3)\n",
        "print(\"v4's diff:\", diffv4)"
      ],
      "execution_count": 12,
      "outputs": [
        {
          "output_type": "stream",
          "text": [
            "teacher's version total time: 0.002654552459716797\n",
            "[0.48316832 0.52559055 0.5030426  ... 0.49233716 0.4858871  0.48041237]\n",
            "new1 version's total time: 0.0030972957611083984\n",
            "[0.48316832 0.52559055 0.5030426  ... 0.49233716 0.4858871  0.48041237]\n",
            "cplus version's total time: 0.0013172626495361328\n",
            "[0.48316832 0.52559055 0.5030426  ... 0.49233716 0.4858871  0.48041237]\n",
            "cplus last version's total time: 0.0012056827545166016\n",
            "[0.48316832 0.52559055 0.5030426  ... 0.49233716 0.4858871  0.48041237]\n",
            "cplus last add version's total time: 0.07401561737060547\n",
            "[0.48316832 0.52559055 0.5030426  ... 0.49233716 0.4858871  0.48041237]\n",
            "v1's diff: 0.0\n",
            "v2's diff: 0.0\n",
            "v3's diff: 0.0\n",
            "v4's diff: 0.0\n"
          ],
          "name": "stdout"
        }
      ]
    },
    {
      "cell_type": "markdown",
      "metadata": {
        "id": "tCzdX5c-hS2z"
      },
      "source": [
        "# 确保10万数据量级的数据能够在1分钟内跑出来结果"
      ]
    },
    {
      "cell_type": "code",
      "metadata": {
        "id": "sE3d_3xM0eEg"
      },
      "source": [
        "y = np.random.randint(2, size=(100000, 1))\n",
        "x = np.random.randint(10, size=(100000, 1))\n",
        "data = pd.DataFrame(np.concatenate([y, x], axis=1), columns=['y', 'x'])"
      ],
      "execution_count": 13,
      "outputs": []
    },
    {
      "cell_type": "code",
      "metadata": {
        "colab": {
          "base_uri": "https://localhost:8080/"
        },
        "id": "XvCMkQY3bZIw",
        "outputId": "94eba920-e62f-4db2-e051-b3e817460b40"
      },
      "source": [
        "start_time = time.time()\n",
        "result_ori = target_mean_v_teacher(data, 'y', 'x')\n",
        "end_time = time.time()\n",
        "\n",
        "print(\"teacher's version total time:\", (end_time - start_time))\n",
        "print(result)\n",
        "\n",
        "start_time = time.time()\n",
        "result_new1 = target_mean_v_new1(data, 'y', 'x')\n",
        "end_time = time.time()\n",
        "\n",
        "print(\"new1 version's total time:\", (end_time - start_time))\n",
        "print(result)\n",
        "\n",
        "start_time = time.time()\n",
        "result_cplus = target_mean_v_cplus(data, 'y', 'x')\n",
        "end_time = time.time()\n",
        "\n",
        "print(\"cplus version's total time:\", (end_time - start_time))\n",
        "print(result)\n",
        "\n",
        "start_time = time.time()\n",
        "result_cplus_last = target_mean_v_cplus_last(data, 'y', 'x')\n",
        "end_time = time.time()\n",
        "\n",
        "print(\"cplus last version's total time:\", (end_time - start_time))\n",
        "print(result)\n",
        "\n",
        "diffv1 = np.linalg.norm(result_new1 - result_ori)\n",
        "diffv2 = np.linalg.norm(result_cplus - result_ori)\n",
        "diffv3 = np.linalg.norm(result_cplus_last - result_ori)\n",
        "print(\"v1's diff:\", diffv1)\n",
        "print(\"v2's diff:\", diffv2)\n",
        "print(\"v3's diff:\", diffv3)"
      ],
      "execution_count": 19,
      "outputs": [
        {
          "output_type": "stream",
          "text": [
            "teacher's version total time: 0.04927945137023926\n",
            "[0.48316832 0.52559055 0.5030426  ... 0.49233716 0.4858871  0.48041237]\n",
            "new1 version's total time: 0.028592348098754883\n",
            "[0.48316832 0.52559055 0.5030426  ... 0.49233716 0.4858871  0.48041237]\n",
            "cplus version's total time: 0.010975122451782227\n",
            "[0.48316832 0.52559055 0.5030426  ... 0.49233716 0.4858871  0.48041237]\n",
            "cplus last version's total time: 0.010931253433227539\n",
            "[0.48316832 0.52559055 0.5030426  ... 0.49233716 0.4858871  0.48041237]\n",
            "v1's diff: 0.0\n",
            "v2's diff: 0.0\n",
            "v3's diff: 0.0\n"
          ],
          "name": "stdout"
        }
      ]
    }
  ]
}