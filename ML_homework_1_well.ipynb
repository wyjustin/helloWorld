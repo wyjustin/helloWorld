{
  "nbformat": 4,
  "nbformat_minor": 0,
  "metadata": {
    "colab": {
      "name": "ML_homework_1_well.ipynb",
      "provenance": [],
      "collapsed_sections": [],
      "include_colab_link": true
    },
    "kernelspec": {
      "name": "python3",
      "display_name": "Python 3"
    },
    "language_info": {
      "name": "python"
    }
  },
  "cells": [
    {
      "cell_type": "markdown",
      "metadata": {
        "id": "view-in-github",
        "colab_type": "text"
      },
      "source": [
        "<a href=\"https://colab.research.google.com/github/wyjustin/helloWorld/blob/master/ML_homework_1_well.ipynb\" target=\"_parent\"><img src=\"https://colab.research.google.com/assets/colab-badge.svg\" alt=\"Open In Colab\"/></a>"
      ]
    },
    {
      "cell_type": "markdown",
      "metadata": {
        "id": "4YMdLZ5bsnwN"
      },
      "source": [
        "# 最原始的python 版本"
      ]
    },
    {
      "cell_type": "code",
      "metadata": {
        "id": "V85jwvtzux8Q"
      },
      "source": [
        "import time\n",
        "import pandas as pd\n",
        "import numpy as np\n",
        "\n",
        "def target_mean_v1(data, y_name, x_name):\n",
        "    result = np.zeros(data.shape[0])\n",
        "    for i in range(data.shape[0]):\n",
        "        groupby_result = data[data.index != i].groupby([x_name], as_index=False).agg(['mean', 'count'])\n",
        "        result[i] = groupby_result.loc[groupby_result.index == data.loc[i, x_name], (y_name, 'mean')]\n",
        "    return result\n",
        "\n",
        "def target_mean_v2(data, y_name, x_name):\n",
        "    result = np.zeros(data.shape[0])\n",
        "    value_dict = dict()\n",
        "    count_dict = dict()\n",
        "    for i in range(data.shape[0]):\n",
        "        if data.loc[i, x_name] not in value_dict.keys():\n",
        "            value_dict[data.loc[i, x_name]] = data.loc[i, y_name]\n",
        "            count_dict[data.loc[i, x_name]] = 1\n",
        "        else:\n",
        "            value_dict[data.loc[i, x_name]] += data.loc[i, y_name]\n",
        "            count_dict[data.loc[i, x_name]] += 1\n",
        "    for i in range(data.shape[0]):\n",
        "        result[i] = (value_dict[data.loc[i, x_name]] - data.loc[i, y_name]) / (count_dict[data.loc[i, x_name]] - 1)\n",
        "    return result\n"
      ],
      "execution_count": null,
      "outputs": []
    },
    {
      "cell_type": "code",
      "metadata": {
        "colab": {
          "base_uri": "https://localhost:8080/"
        },
        "id": "P7a9G2SMvDCv",
        "outputId": "ebc66789-255c-4723-c03d-54d155c21fdc"
      },
      "source": [
        "y = np.random.randint(2, size=(5000, 1))\n",
        "x = np.random.randint(10, size=(5000, 1))\n",
        "data = pd.DataFrame(np.concatenate([y, x], axis=1), columns=['y', 'x'])\n",
        "\n",
        "start_time = time.time()\n",
        "result = target_mean_v1(data, 'y', 'x')\n",
        "end_time = time.time()\n",
        "    \n",
        "print(\"Python total time:\", (end_time - start_time))\n",
        "print(\"Python result:\")\n",
        "print(result)\n",
        "print(\"\\n\")\n",
        "\n",
        "start_time = time.time()\n",
        "result = target_mean_v2(data, 'y', 'x')\n",
        "end_time = time.time()\n",
        "    \n",
        "print(\"Python V2 total time:\", (end_time - start_time))\n",
        "print(\"Python V1 result:\")\n",
        "print(result)"
      ],
      "execution_count": null,
      "outputs": [
        {
          "output_type": "stream",
          "text": [
            "V1 total time: 24.06008768081665\n",
            "V1 result:\n",
            "[0.50867052 0.51282051 0.54761905 ... 0.51896208 0.5204918  0.50094877]\n",
            "\n",
            "\n",
            "V2 total time: 0.3091433048248291\n",
            "V1 result:\n",
            "[0.50867052 0.51282051 0.54761905 ... 0.51896208 0.5204918  0.50094877]\n"
          ],
          "name": "stdout"
        }
      ]
    },
    {
      "cell_type": "markdown",
      "metadata": {
        "id": "ykwZf-D6oeF5"
      },
      "source": [
        "# 课堂上cython的版本"
      ]
    },
    {
      "cell_type": "code",
      "metadata": {
        "id": "YoTbToX8xHd2"
      },
      "source": [
        "%reload_ext cython"
      ],
      "execution_count": null,
      "outputs": []
    },
    {
      "cell_type": "code",
      "metadata": {
        "id": "krQZcaYZkuCq"
      },
      "source": [
        "%%cython\n",
        "\n",
        "import numpy as np\n",
        "cimport numpy as cnp\n",
        "\n",
        "cpdef target_mean_v3(data, y_name, x_name):\n",
        "    cdef long nrow = data.shape[0]\n",
        "    cdef cnp.ndarray[double] result = np.asfortranarray(np.zeros(nrow), dtype=np.float64)\n",
        "    cdef cnp.ndarray[double] x = np.asfortranarray(data[x_name], dtype=np.float64)\n",
        "    cdef cnp.ndarray[double] y = np.asfortranarray(data[y_name], dtype=np.float64)\n",
        "    \n",
        "    cdef dict value_dic = dict()\n",
        "    cdef dict count_dic = dict()\n",
        "\n",
        "    for i in range(nrow):\n",
        "      if x[i] not in value_dic.keys():\n",
        "        value_dic[x[i]] = y[i]\n",
        "        count_dic[x[i]] = 1\n",
        "      else:\n",
        "        value_dic[x[i]] += y[i]\n",
        "        count_dic[x[i]] += 1\n",
        "    for i in range(nrow):\n",
        "      result[i] = (value_dic[x[i]] - y[i]) / (count_dic[x[i]] - 1)\n",
        "    \n",
        "    return result"
      ],
      "execution_count": null,
      "outputs": []
    },
    {
      "cell_type": "code",
      "metadata": {
        "colab": {
          "base_uri": "https://localhost:8080/"
        },
        "id": "TOKmQC76k94n",
        "outputId": "98533b5a-daae-4d6b-d0d6-fe04cbfc7009"
      },
      "source": [
        "start_time = time.time()\n",
        "result = target_mean_v3(data, 'y', 'x')\n",
        "end_time = time.time()\n",
        "\n",
        "print(\"total time:\", (end_time - start_time))\n",
        "print(result)"
      ],
      "execution_count": null,
      "outputs": [
        {
          "output_type": "stream",
          "text": [
            "total time: 0.006345510482788086\n",
            "[0.50867052 0.51282051 0.54761905 ... 0.51896208 0.5204918  0.50094877]\n"
          ],
          "name": "stdout"
        }
      ]
    },
    {
      "cell_type": "markdown",
      "metadata": {
        "id": "rJ3LO6nWk88n"
      },
      "source": [
        "# 个人优化的几个版本\n",
        "\n",
        "1. 继续使用dict，做如下优化的版本（v1）\n",
        "  - 数据类型根据题目要求可以指定为int\n",
        "  - range函数替换\n",
        "\n",
        "2. 替换dict为C++的unordered_map的版本\n",
        "  - 数据类型根据题目要求可以指定为int\n",
        "  - range函数替换和不替换（v2和v3两种），两个差不多，v3版本一般情况下比v2快\n",
        "\n",
        "3. 尝试使用pypm的并行，不作为作业提交的版本\n",
        "  - 发现在简单任务，而且免费colab的2个cpu的情况下，并行效果不佳，反而比v2和v3还要慢\n",
        "\n",
        "所以快的原因总结下：\n",
        "1. int类型计算时比double的快，与计算机的存储方式和计算方式有关\n",
        "2. 更加精简的直接的命令比封装的命令要快，相当于C++里面的inline的效果\n"
      ]
    },
    {
      "cell_type": "code",
      "metadata": {
        "id": "_Jh4NWQ6zuwH"
      },
      "source": [
        "%reload_ext cython"
      ],
      "execution_count": null,
      "outputs": []
    },
    {
      "cell_type": "code",
      "metadata": {
        "colab": {
          "base_uri": "https://localhost:8080/"
        },
        "id": "z7BgZf8W6_Ry",
        "outputId": "02a6c78e-144e-4663-f0eb-4541a70e992e"
      },
      "source": [
        "!pip install pymp-pypi"
      ],
      "execution_count": null,
      "outputs": [
        {
          "output_type": "stream",
          "text": [
            "Requirement already satisfied: pymp-pypi in /usr/local/lib/python3.7/dist-packages (0.4.3)\n"
          ],
          "name": "stdout"
        }
      ]
    },
    {
      "cell_type": "code",
      "metadata": {
        "colab": {
          "base_uri": "https://localhost:8080/"
        },
        "id": "GxL9hI6Q_pPy",
        "outputId": "b66eb862-d757-40bd-d83d-7264abb8eb10"
      },
      "source": [
        "! cat /proc/cpuinfo"
      ],
      "execution_count": null,
      "outputs": [
        {
          "output_type": "stream",
          "text": [
            "processor\t: 0\n",
            "vendor_id\t: GenuineIntel\n",
            "cpu family\t: 6\n",
            "model\t\t: 79\n",
            "model name\t: Intel(R) Xeon(R) CPU @ 2.20GHz\n",
            "stepping\t: 0\n",
            "microcode\t: 0x1\n",
            "cpu MHz\t\t: 2200.190\n",
            "cache size\t: 56320 KB\n",
            "physical id\t: 0\n",
            "siblings\t: 2\n",
            "core id\t\t: 0\n",
            "cpu cores\t: 1\n",
            "apicid\t\t: 0\n",
            "initial apicid\t: 0\n",
            "fpu\t\t: yes\n",
            "fpu_exception\t: yes\n",
            "cpuid level\t: 13\n",
            "wp\t\t: yes\n",
            "flags\t\t: fpu vme de pse tsc msr pae mce cx8 apic sep mtrr pge mca cmov pat pse36 clflush mmx fxsr sse sse2 ss ht syscall nx pdpe1gb rdtscp lm constant_tsc rep_good nopl xtopology nonstop_tsc cpuid tsc_known_freq pni pclmulqdq ssse3 fma cx16 pcid sse4_1 sse4_2 x2apic movbe popcnt aes xsave avx f16c rdrand hypervisor lahf_lm abm 3dnowprefetch invpcid_single ssbd ibrs ibpb stibp fsgsbase tsc_adjust bmi1 hle avx2 smep bmi2 erms invpcid rtm rdseed adx smap xsaveopt arat md_clear arch_capabilities\n",
            "bugs\t\t: cpu_meltdown spectre_v1 spectre_v2 spec_store_bypass l1tf mds swapgs taa\n",
            "bogomips\t: 4400.38\n",
            "clflush size\t: 64\n",
            "cache_alignment\t: 64\n",
            "address sizes\t: 46 bits physical, 48 bits virtual\n",
            "power management:\n",
            "\n",
            "processor\t: 1\n",
            "vendor_id\t: GenuineIntel\n",
            "cpu family\t: 6\n",
            "model\t\t: 79\n",
            "model name\t: Intel(R) Xeon(R) CPU @ 2.20GHz\n",
            "stepping\t: 0\n",
            "microcode\t: 0x1\n",
            "cpu MHz\t\t: 2200.190\n",
            "cache size\t: 56320 KB\n",
            "physical id\t: 0\n",
            "siblings\t: 2\n",
            "core id\t\t: 0\n",
            "cpu cores\t: 1\n",
            "apicid\t\t: 1\n",
            "initial apicid\t: 1\n",
            "fpu\t\t: yes\n",
            "fpu_exception\t: yes\n",
            "cpuid level\t: 13\n",
            "wp\t\t: yes\n",
            "flags\t\t: fpu vme de pse tsc msr pae mce cx8 apic sep mtrr pge mca cmov pat pse36 clflush mmx fxsr sse sse2 ss ht syscall nx pdpe1gb rdtscp lm constant_tsc rep_good nopl xtopology nonstop_tsc cpuid tsc_known_freq pni pclmulqdq ssse3 fma cx16 pcid sse4_1 sse4_2 x2apic movbe popcnt aes xsave avx f16c rdrand hypervisor lahf_lm abm 3dnowprefetch invpcid_single ssbd ibrs ibpb stibp fsgsbase tsc_adjust bmi1 hle avx2 smep bmi2 erms invpcid rtm rdseed adx smap xsaveopt arat md_clear arch_capabilities\n",
            "bugs\t\t: cpu_meltdown spectre_v1 spectre_v2 spec_store_bypass l1tf mds swapgs taa\n",
            "bogomips\t: 4400.38\n",
            "clflush size\t: 64\n",
            "cache_alignment\t: 64\n",
            "address sizes\t: 46 bits physical, 48 bits virtual\n",
            "power management:\n",
            "\n"
          ],
          "name": "stdout"
        }
      ]
    },
    {
      "cell_type": "code",
      "metadata": {
        "id": "Jf9BzEv6fXzR"
      },
      "source": [
        "%%cython --cplus\n",
        "\n",
        "import time\n",
        "import pandas as pd\n",
        "import numpy as np\n",
        "cimport numpy as cnp\n",
        "from libcpp.unordered_map cimport unordered_map\n",
        "from cython cimport parallel\n",
        "import pymp\n",
        "\n",
        "cpdef target_mean_v_teacher(data, y_name, x_name):\n",
        "    cdef long nrow = data.shape[0]\n",
        "    cdef cnp.ndarray[double] result = np.asfortranarray(np.zeros(nrow), dtype=np.float64)\n",
        "    cdef cnp.ndarray[double] x = np.asfortranarray(data[x_name], dtype=np.float64)\n",
        "    cdef cnp.ndarray[double] y = np.asfortranarray(data[y_name], dtype=np.float64)\n",
        "    \n",
        "    cdef dict value_dic = dict()\n",
        "    cdef dict count_dic = dict()\n",
        "\n",
        "    for i in range(nrow):\n",
        "      if x[i] not in value_dic.keys():\n",
        "        value_dic[x[i]] = y[i]\n",
        "        count_dic[x[i]] = 1\n",
        "      else:\n",
        "        value_dic[x[i]] += y[i]\n",
        "        count_dic[x[i]] += 1\n",
        "    for i in range(nrow):\n",
        "      result[i] = (value_dic[x[i]] - y[i]) / (count_dic[x[i]] - 1)\n",
        "    \n",
        "    return result\n",
        "\n",
        "cpdef target_mean_v_new1(data, y_name, x_name):\n",
        "    cdef int nrow = data.shape[0]\n",
        "    cdef cnp.ndarray[double] result = np.asfortranarray(np.zeros(nrow), dtype=np.float64)\n",
        "    cdef cnp.ndarray[int] x = np.asfortranarray(data[x_name], dtype=np.int32)\n",
        "    cdef cnp.ndarray[int] y = np.asfortranarray(data[y_name], dtype=np.int32)\n",
        "    \n",
        "    cdef dict value_dic = dict()\n",
        "    cdef dict count_dic = dict()\n",
        "\n",
        "    for i from 0 <= i < nrow by 1:\n",
        "      if x[i] not in value_dic.keys():\n",
        "        value_dic[x[i]] = y[i]\n",
        "        count_dic[x[i]] = 1\n",
        "      else:\n",
        "        value_dic[x[i]] += y[i]\n",
        "        count_dic[x[i]] += 1\n",
        "    for i from 0 <= i < nrow by 1:\n",
        "      result[i] = (value_dic[x[i]] - y[i]) / (count_dic[x[i]] - 1)\n",
        "    \n",
        "    return result\n",
        "\n",
        "cpdef target_mean_v_cplus(data, y_name, x_name):\n",
        "    cdef int nrow = data.shape[0]\n",
        "    cdef cnp.ndarray[double] result = np.asfortranarray(np.zeros(nrow), dtype=np.float64)\n",
        "    cdef cnp.ndarray[int] x = np.asfortranarray(data[x_name], dtype=np.int32)\n",
        "    cdef cnp.ndarray[int] y = np.asfortranarray(data[y_name], dtype=np.int32)\n",
        "    \n",
        "    cdef unordered_map[int, int] value_map\n",
        "    cdef unordered_map[int, int] count_map\n",
        "\n",
        "    for i in range(nrow):\n",
        "      if value_map.count(x[i]):\n",
        "        value_map[x[i]] += y[i]\n",
        "        count_map[x[i]] += 1\n",
        "      else:\n",
        "        value_map[x[i]] = y[i]\n",
        "        count_map[x[i]] = 1\n",
        "\n",
        "    for i in range(nrow):\n",
        "      result[i] = (value_map[x[i]] - y[i]) / (count_map[x[i]] - 1)\n",
        "    \n",
        "    return result\n",
        "\n",
        "cpdef target_mean_v_cplus_last(data, y_name, x_name):\n",
        "    cdef int nrow = data.shape[0]\n",
        "    cdef cnp.ndarray[double] result = np.asfortranarray(np.zeros(nrow), dtype=np.float64)\n",
        "    cdef cnp.ndarray[int] x = np.asfortranarray(data[x_name], dtype=np.int32)\n",
        "    cdef cnp.ndarray[int] y = np.asfortranarray(data[y_name], dtype=np.int32)\n",
        "    \n",
        "    cdef unordered_map[int, int] value_map\n",
        "    cdef unordered_map[int, int] count_map\n",
        "\n",
        "    for i from 0 <= i < nrow by 1:\n",
        "      if value_map.count(x[i]):\n",
        "        value_map[x[i]] += y[i]\n",
        "        count_map[x[i]] += 1\n",
        "      else:\n",
        "        value_map[x[i]] = y[i]\n",
        "        count_map[x[i]] = 1\n",
        "\n",
        "    for i from 0 <= i < nrow by 1:\n",
        "      result[i] = (value_map[x[i]] - y[i]) / (count_map[x[i]] - 1)\n",
        "    \n",
        "    return result\n",
        "\n",
        "cpdef target_mean_v_cplus_test_pymp(data, y_name, x_name):\n",
        "    cdef int nrow = data.shape[0]\n",
        "    cdef cnp.ndarray[double] result = pymp.shared.array((nrow,), dtype=np.float64)\n",
        "    cdef cnp.ndarray[int] x = np.asfortranarray(data[x_name], dtype=np.int32)\n",
        "    cdef cnp.ndarray[int] y = np.asfortranarray(data[y_name], dtype=np.int32)\n",
        "    \n",
        "    cdef unordered_map[int, int] value_map\n",
        "    cdef unordered_map[int, int] count_map\n",
        "\n",
        "    for i from 0 <= i < nrow by 1:\n",
        "      if value_map.count(x[i]):\n",
        "        value_map[x[i]] = value_map[x[i]] + y[i]\n",
        "        count_map[x[i]] += 1\n",
        "      else:\n",
        "        value_map[x[i]] = y[i]\n",
        "        count_map[x[i]] = 1\n",
        "\n",
        "    with pymp.Parallel(2) as p:\n",
        "      for i in p.range(0, nrow):\n",
        "        result[i] = (value_map[x[i]] - y[i]) / (count_map[x[i]] - 1)\n",
        "    \n",
        "    return result\n",
        "\n"
      ],
      "execution_count": null,
      "outputs": []
    },
    {
      "cell_type": "code",
      "metadata": {
        "colab": {
          "base_uri": "https://localhost:8080/",
          "height": 591
        },
        "id": "Tl9RUbuSiaeX",
        "outputId": "4e0e9924-ce7f-4e2c-fe0f-96e54be87b2e"
      },
      "source": [
        "start_time = time.time()\n",
        "result_ori = target_mean_v_teacher(data, 'y', 'x')\n",
        "end_time = time.time()\n",
        "\n",
        "print(\"teacher's version total time:\", (end_time - start_time))\n",
        "print(result)\n",
        "\n",
        "start_time = time.time()\n",
        "result_new1 = target_mean_v_new1(data, 'y', 'x')\n",
        "end_time = time.time()\n",
        "\n",
        "print(\"new1 version's total time:\", (end_time - start_time))\n",
        "print(result)\n",
        "\n",
        "start_time = time.time()\n",
        "result_cplus = target_mean_v_cplus(data, 'y', 'x')\n",
        "end_time = time.time()\n",
        "\n",
        "print(\"cplus version's total time:\", (end_time - start_time))\n",
        "print(result)\n",
        "\n",
        "start_time = time.time()\n",
        "result_cplus_last = target_mean_v_cplus_last(data, 'y', 'x')\n",
        "end_time = time.time()\n",
        "\n",
        "print(\"cplus last version's total time:\", (end_time - start_time))\n",
        "print(result)\n",
        "\n",
        "start_time = time.time()\n",
        "result_cplus_last_pymp = target_mean_v_cplus_last_pymp(data, 'y', 'x')\n",
        "end_time = time.time()\n",
        "\n",
        "print(\"cplus last add version's total time:\", (end_time - start_time))\n",
        "print(result)\n",
        "\n",
        "diffv1 = np.linalg.norm(result_new1 - result_ori)\n",
        "diffv2 = np.linalg.norm(result_cplus - result_ori)\n",
        "diffv3 = np.linalg.norm(result_cplus_last - result_ori)\n",
        "diffv4 = np.linalg.norm(result_cplus_last_pymp - result_ori)\n",
        "print(\"v1's diff:\", diffv1)\n",
        "print(\"v2's diff:\", diffv2)\n",
        "print(\"v3's diff:\", diffv3)\n",
        "print(\"v4's diff:\", diffv4)"
      ],
      "execution_count": null,
      "outputs": [
        {
          "output_type": "stream",
          "text": [
            "teacher's version total time: 0.05143594741821289\n",
            "[0.50867052 0.51282051 0.54761905 ... 0.51896208 0.5204918  0.50094877]\n",
            "new1 version's total time: 0.03164982795715332\n",
            "[0.50867052 0.51282051 0.54761905 ... 0.51896208 0.5204918  0.50094877]\n",
            "cplus version's total time: 0.011758565902709961\n",
            "[0.50867052 0.51282051 0.54761905 ... 0.51896208 0.5204918  0.50094877]\n",
            "cplus last version's total time: 0.012859344482421875\n",
            "[0.50867052 0.51282051 0.54761905 ... 0.51896208 0.5204918  0.50094877]\n"
          ],
          "name": "stdout"
        },
        {
          "output_type": "error",
          "ename": "FileNotFoundError",
          "evalue": "ignored",
          "traceback": [
            "\u001b[0;31m---------------------------------------------------------------------------\u001b[0m",
            "\u001b[0;31mFileNotFoundError\u001b[0m                         Traceback (most recent call last)",
            "\u001b[0;32m<ipython-input-220-f6dfd22ec772>\u001b[0m in \u001b[0;36m<module>\u001b[0;34m()\u001b[0m\n\u001b[1;32m     28\u001b[0m \u001b[0;34m\u001b[0m\u001b[0m\n\u001b[1;32m     29\u001b[0m \u001b[0mstart_time\u001b[0m \u001b[0;34m=\u001b[0m \u001b[0mtime\u001b[0m\u001b[0;34m.\u001b[0m\u001b[0mtime\u001b[0m\u001b[0;34m(\u001b[0m\u001b[0;34m)\u001b[0m\u001b[0;34m\u001b[0m\u001b[0;34m\u001b[0m\u001b[0m\n\u001b[0;32m---> 30\u001b[0;31m \u001b[0mresult_cplus_last_pymp\u001b[0m \u001b[0;34m=\u001b[0m \u001b[0mtarget_mean_v_cplus_last_pymp\u001b[0m\u001b[0;34m(\u001b[0m\u001b[0mdata\u001b[0m\u001b[0;34m,\u001b[0m \u001b[0;34m'y'\u001b[0m\u001b[0;34m,\u001b[0m \u001b[0;34m'x'\u001b[0m\u001b[0;34m)\u001b[0m\u001b[0;34m\u001b[0m\u001b[0;34m\u001b[0m\u001b[0m\n\u001b[0m\u001b[1;32m     31\u001b[0m \u001b[0mend_time\u001b[0m \u001b[0;34m=\u001b[0m \u001b[0mtime\u001b[0m\u001b[0;34m.\u001b[0m\u001b[0mtime\u001b[0m\u001b[0;34m(\u001b[0m\u001b[0;34m)\u001b[0m\u001b[0;34m\u001b[0m\u001b[0;34m\u001b[0m\u001b[0m\n\u001b[1;32m     32\u001b[0m \u001b[0;34m\u001b[0m\u001b[0m\n",
            "\u001b[0;32m_cython_magic_8c6ff4b224073fea669d23b86ead2c84.pyx\u001b[0m in \u001b[0;36m_cython_magic_8c6ff4b224073fea669d23b86ead2c84.target_mean_v_cplus_last_pymp\u001b[0;34m()\u001b[0m\n",
            "\u001b[0;32m_cython_magic_8c6ff4b224073fea669d23b86ead2c84.pyx\u001b[0m in \u001b[0;36m_cython_magic_8c6ff4b224073fea669d23b86ead2c84.target_mean_v_cplus_last_pymp\u001b[0;34m()\u001b[0m\n",
            "\u001b[0;32m/usr/local/lib/python3.7/dist-packages/pymp/__init__.py\u001b[0m in \u001b[0;36m__init__\u001b[0;34m(self, num_threads, if_)\u001b[0m\n\u001b[1;32m     54\u001b[0m             \u001b[0mParallel\u001b[0m\u001b[0;34m.\u001b[0m\u001b[0m_global_master\u001b[0m \u001b[0;34m=\u001b[0m \u001b[0m_os\u001b[0m\u001b[0;34m.\u001b[0m\u001b[0mgetpid\u001b[0m\u001b[0;34m(\u001b[0m\u001b[0;34m)\u001b[0m\u001b[0;34m\u001b[0m\u001b[0;34m\u001b[0m\u001b[0m\n\u001b[1;32m     55\u001b[0m         \u001b[0;31m# Dynamic schedule management.\u001b[0m\u001b[0;34m\u001b[0m\u001b[0;34m\u001b[0m\u001b[0;34m\u001b[0m\u001b[0m\n\u001b[0;32m---> 56\u001b[0;31m         \u001b[0mself\u001b[0m\u001b[0;34m.\u001b[0m\u001b[0m_dynamic_queue\u001b[0m \u001b[0;34m=\u001b[0m \u001b[0m_shared\u001b[0m\u001b[0;34m.\u001b[0m\u001b[0mqueue\u001b[0m\u001b[0;34m(\u001b[0m\u001b[0;34m)\u001b[0m\u001b[0;34m\u001b[0m\u001b[0;34m\u001b[0m\u001b[0m\n\u001b[0m\u001b[1;32m     57\u001b[0m         \u001b[0mself\u001b[0m\u001b[0;34m.\u001b[0m\u001b[0m_iter_queue\u001b[0m \u001b[0;34m=\u001b[0m \u001b[0;32mNone\u001b[0m\u001b[0;34m\u001b[0m\u001b[0;34m\u001b[0m\u001b[0m\n\u001b[1;32m     58\u001b[0m         \u001b[0mself\u001b[0m\u001b[0;34m.\u001b[0m\u001b[0m_thread_loop_ids\u001b[0m \u001b[0;34m=\u001b[0m \u001b[0;32mNone\u001b[0m\u001b[0;34m\u001b[0m\u001b[0;34m\u001b[0m\u001b[0m\n",
            "\u001b[0;32m/usr/local/lib/python3.7/dist-packages/pymp/shared.py\u001b[0m in \u001b[0;36mqueue\u001b[0;34m(*args, **kwargs)\u001b[0m\n\u001b[1;32m     50\u001b[0m \u001b[0;32mdef\u001b[0m \u001b[0mqueue\u001b[0m\u001b[0;34m(\u001b[0m\u001b[0;34m*\u001b[0m\u001b[0margs\u001b[0m\u001b[0;34m,\u001b[0m \u001b[0;34m**\u001b[0m\u001b[0mkwargs\u001b[0m\u001b[0;34m)\u001b[0m\u001b[0;34m:\u001b[0m\u001b[0;34m\u001b[0m\u001b[0;34m\u001b[0m\u001b[0m\n\u001b[1;32m     51\u001b[0m     \u001b[0;34m\"\"\"Create a shared queue.\"\"\"\u001b[0m\u001b[0;34m\u001b[0m\u001b[0;34m\u001b[0m\u001b[0m\n\u001b[0;32m---> 52\u001b[0;31m     \u001b[0;32mreturn\u001b[0m \u001b[0m_MANAGER\u001b[0m\u001b[0;34m.\u001b[0m\u001b[0mQueue\u001b[0m\u001b[0;34m(\u001b[0m\u001b[0;34m*\u001b[0m\u001b[0margs\u001b[0m\u001b[0;34m,\u001b[0m \u001b[0;34m**\u001b[0m\u001b[0mkwargs\u001b[0m\u001b[0;34m)\u001b[0m\u001b[0;34m\u001b[0m\u001b[0;34m\u001b[0m\u001b[0m\n\u001b[0m",
            "\u001b[0;32m/usr/lib/python3.7/multiprocessing/managers.py\u001b[0m in \u001b[0;36mtemp\u001b[0;34m(self, *args, **kwds)\u001b[0m\n\u001b[1;32m    722\u001b[0m             \u001b[0;32mdef\u001b[0m \u001b[0mtemp\u001b[0m\u001b[0;34m(\u001b[0m\u001b[0mself\u001b[0m\u001b[0;34m,\u001b[0m \u001b[0;34m*\u001b[0m\u001b[0margs\u001b[0m\u001b[0;34m,\u001b[0m \u001b[0;34m**\u001b[0m\u001b[0mkwds\u001b[0m\u001b[0;34m)\u001b[0m\u001b[0;34m:\u001b[0m\u001b[0;34m\u001b[0m\u001b[0;34m\u001b[0m\u001b[0m\n\u001b[1;32m    723\u001b[0m                 \u001b[0mutil\u001b[0m\u001b[0;34m.\u001b[0m\u001b[0mdebug\u001b[0m\u001b[0;34m(\u001b[0m\u001b[0;34m'requesting creation of a shared %r object'\u001b[0m\u001b[0;34m,\u001b[0m \u001b[0mtypeid\u001b[0m\u001b[0;34m)\u001b[0m\u001b[0;34m\u001b[0m\u001b[0;34m\u001b[0m\u001b[0m\n\u001b[0;32m--> 724\u001b[0;31m                 \u001b[0mtoken\u001b[0m\u001b[0;34m,\u001b[0m \u001b[0mexp\u001b[0m \u001b[0;34m=\u001b[0m \u001b[0mself\u001b[0m\u001b[0;34m.\u001b[0m\u001b[0m_create\u001b[0m\u001b[0;34m(\u001b[0m\u001b[0mtypeid\u001b[0m\u001b[0;34m,\u001b[0m \u001b[0;34m*\u001b[0m\u001b[0margs\u001b[0m\u001b[0;34m,\u001b[0m \u001b[0;34m**\u001b[0m\u001b[0mkwds\u001b[0m\u001b[0;34m)\u001b[0m\u001b[0;34m\u001b[0m\u001b[0;34m\u001b[0m\u001b[0m\n\u001b[0m\u001b[1;32m    725\u001b[0m                 proxy = proxytype(\n\u001b[1;32m    726\u001b[0m                     \u001b[0mtoken\u001b[0m\u001b[0;34m,\u001b[0m \u001b[0mself\u001b[0m\u001b[0;34m.\u001b[0m\u001b[0m_serializer\u001b[0m\u001b[0;34m,\u001b[0m \u001b[0mmanager\u001b[0m\u001b[0;34m=\u001b[0m\u001b[0mself\u001b[0m\u001b[0;34m,\u001b[0m\u001b[0;34m\u001b[0m\u001b[0;34m\u001b[0m\u001b[0m\n",
            "\u001b[0;32m/usr/lib/python3.7/multiprocessing/managers.py\u001b[0m in \u001b[0;36m_create\u001b[0;34m(*args, **kwds)\u001b[0m\n\u001b[1;32m    605\u001b[0m \u001b[0;34m\u001b[0m\u001b[0m\n\u001b[1;32m    606\u001b[0m         \u001b[0;32massert\u001b[0m \u001b[0mself\u001b[0m\u001b[0;34m.\u001b[0m\u001b[0m_state\u001b[0m\u001b[0;34m.\u001b[0m\u001b[0mvalue\u001b[0m \u001b[0;34m==\u001b[0m \u001b[0mState\u001b[0m\u001b[0;34m.\u001b[0m\u001b[0mSTARTED\u001b[0m\u001b[0;34m,\u001b[0m \u001b[0;34m'server not yet started'\u001b[0m\u001b[0;34m\u001b[0m\u001b[0;34m\u001b[0m\u001b[0m\n\u001b[0;32m--> 607\u001b[0;31m         \u001b[0mconn\u001b[0m \u001b[0;34m=\u001b[0m \u001b[0mself\u001b[0m\u001b[0;34m.\u001b[0m\u001b[0m_Client\u001b[0m\u001b[0;34m(\u001b[0m\u001b[0mself\u001b[0m\u001b[0;34m.\u001b[0m\u001b[0m_address\u001b[0m\u001b[0;34m,\u001b[0m \u001b[0mauthkey\u001b[0m\u001b[0;34m=\u001b[0m\u001b[0mself\u001b[0m\u001b[0;34m.\u001b[0m\u001b[0m_authkey\u001b[0m\u001b[0;34m)\u001b[0m\u001b[0;34m\u001b[0m\u001b[0;34m\u001b[0m\u001b[0m\n\u001b[0m\u001b[1;32m    608\u001b[0m         \u001b[0;32mtry\u001b[0m\u001b[0;34m:\u001b[0m\u001b[0;34m\u001b[0m\u001b[0;34m\u001b[0m\u001b[0m\n\u001b[1;32m    609\u001b[0m             \u001b[0mid\u001b[0m\u001b[0;34m,\u001b[0m \u001b[0mexposed\u001b[0m \u001b[0;34m=\u001b[0m \u001b[0mdispatch\u001b[0m\u001b[0;34m(\u001b[0m\u001b[0mconn\u001b[0m\u001b[0;34m,\u001b[0m \u001b[0;32mNone\u001b[0m\u001b[0;34m,\u001b[0m \u001b[0;34m'create'\u001b[0m\u001b[0;34m,\u001b[0m \u001b[0;34m(\u001b[0m\u001b[0mtypeid\u001b[0m\u001b[0;34m,\u001b[0m\u001b[0;34m)\u001b[0m\u001b[0;34m+\u001b[0m\u001b[0margs\u001b[0m\u001b[0;34m,\u001b[0m \u001b[0mkwds\u001b[0m\u001b[0;34m)\u001b[0m\u001b[0;34m\u001b[0m\u001b[0;34m\u001b[0m\u001b[0m\n",
            "\u001b[0;32m/usr/lib/python3.7/multiprocessing/connection.py\u001b[0m in \u001b[0;36mClient\u001b[0;34m(address, family, authkey)\u001b[0m\n\u001b[1;32m    490\u001b[0m         \u001b[0mc\u001b[0m \u001b[0;34m=\u001b[0m \u001b[0mPipeClient\u001b[0m\u001b[0;34m(\u001b[0m\u001b[0maddress\u001b[0m\u001b[0;34m)\u001b[0m\u001b[0;34m\u001b[0m\u001b[0;34m\u001b[0m\u001b[0m\n\u001b[1;32m    491\u001b[0m     \u001b[0;32melse\u001b[0m\u001b[0;34m:\u001b[0m\u001b[0;34m\u001b[0m\u001b[0;34m\u001b[0m\u001b[0m\n\u001b[0;32m--> 492\u001b[0;31m         \u001b[0mc\u001b[0m \u001b[0;34m=\u001b[0m \u001b[0mSocketClient\u001b[0m\u001b[0;34m(\u001b[0m\u001b[0maddress\u001b[0m\u001b[0;34m)\u001b[0m\u001b[0;34m\u001b[0m\u001b[0;34m\u001b[0m\u001b[0m\n\u001b[0m\u001b[1;32m    493\u001b[0m \u001b[0;34m\u001b[0m\u001b[0m\n\u001b[1;32m    494\u001b[0m     \u001b[0;32mif\u001b[0m \u001b[0mauthkey\u001b[0m \u001b[0;32mis\u001b[0m \u001b[0;32mnot\u001b[0m \u001b[0;32mNone\u001b[0m \u001b[0;32mand\u001b[0m \u001b[0;32mnot\u001b[0m \u001b[0misinstance\u001b[0m\u001b[0;34m(\u001b[0m\u001b[0mauthkey\u001b[0m\u001b[0;34m,\u001b[0m \u001b[0mbytes\u001b[0m\u001b[0;34m)\u001b[0m\u001b[0;34m:\u001b[0m\u001b[0;34m\u001b[0m\u001b[0;34m\u001b[0m\u001b[0m\n",
            "\u001b[0;32m/usr/lib/python3.7/multiprocessing/connection.py\u001b[0m in \u001b[0;36mSocketClient\u001b[0;34m(address)\u001b[0m\n\u001b[1;32m    618\u001b[0m     \u001b[0;32mwith\u001b[0m \u001b[0msocket\u001b[0m\u001b[0;34m.\u001b[0m\u001b[0msocket\u001b[0m\u001b[0;34m(\u001b[0m \u001b[0mgetattr\u001b[0m\u001b[0;34m(\u001b[0m\u001b[0msocket\u001b[0m\u001b[0;34m,\u001b[0m \u001b[0mfamily\u001b[0m\u001b[0;34m)\u001b[0m \u001b[0;34m)\u001b[0m \u001b[0;32mas\u001b[0m \u001b[0ms\u001b[0m\u001b[0;34m:\u001b[0m\u001b[0;34m\u001b[0m\u001b[0;34m\u001b[0m\u001b[0m\n\u001b[1;32m    619\u001b[0m         \u001b[0ms\u001b[0m\u001b[0;34m.\u001b[0m\u001b[0msetblocking\u001b[0m\u001b[0;34m(\u001b[0m\u001b[0;32mTrue\u001b[0m\u001b[0;34m)\u001b[0m\u001b[0;34m\u001b[0m\u001b[0;34m\u001b[0m\u001b[0m\n\u001b[0;32m--> 620\u001b[0;31m         \u001b[0ms\u001b[0m\u001b[0;34m.\u001b[0m\u001b[0mconnect\u001b[0m\u001b[0;34m(\u001b[0m\u001b[0maddress\u001b[0m\u001b[0;34m)\u001b[0m\u001b[0;34m\u001b[0m\u001b[0;34m\u001b[0m\u001b[0m\n\u001b[0m\u001b[1;32m    621\u001b[0m         \u001b[0;32mreturn\u001b[0m \u001b[0mConnection\u001b[0m\u001b[0;34m(\u001b[0m\u001b[0ms\u001b[0m\u001b[0;34m.\u001b[0m\u001b[0mdetach\u001b[0m\u001b[0;34m(\u001b[0m\u001b[0;34m)\u001b[0m\u001b[0;34m)\u001b[0m\u001b[0;34m\u001b[0m\u001b[0;34m\u001b[0m\u001b[0m\n\u001b[1;32m    622\u001b[0m \u001b[0;34m\u001b[0m\u001b[0m\n",
            "\u001b[0;31mFileNotFoundError\u001b[0m: [Errno 2] No such file or directory"
          ]
        }
      ]
    },
    {
      "cell_type": "markdown",
      "metadata": {
        "id": "tCzdX5c-hS2z"
      },
      "source": [
        "# 确保10万数据量级的数据能够在1分钟内跑出来结果"
      ]
    },
    {
      "cell_type": "code",
      "metadata": {
        "id": "sE3d_3xM0eEg"
      },
      "source": [
        "y = np.random.randint(2, size=(100000, 1))\n",
        "x = np.random.randint(10, size=(100000, 1))\n",
        "data = pd.DataFrame(np.concatenate([y, x], axis=1), columns=['y', 'x'])"
      ],
      "execution_count": null,
      "outputs": []
    },
    {
      "cell_type": "code",
      "metadata": {
        "colab": {
          "base_uri": "https://localhost:8080/"
        },
        "id": "XvCMkQY3bZIw",
        "outputId": "ca7cb83c-bc63-4c1e-f088-527299d7a18e"
      },
      "source": [
        "start_time = time.time()\n",
        "result_ori = target_mean_v_teacher(data, 'y', 'x')\n",
        "end_time = time.time()\n",
        "\n",
        "print(\"teacher's version total time:\", (end_time - start_time))\n",
        "print(result)\n",
        "\n",
        "start_time = time.time()\n",
        "result_new1 = target_mean_v_new1(data, 'y', 'x')\n",
        "end_time = time.time()\n",
        "\n",
        "print(\"new1 version's total time:\", (end_time - start_time))\n",
        "print(result)\n",
        "\n",
        "start_time = time.time()\n",
        "result_cplus = target_mean_v_cplus(data, 'y', 'x')\n",
        "end_time = time.time()\n",
        "\n",
        "print(\"cplus version's total time:\", (end_time - start_time))\n",
        "print(result)\n",
        "\n",
        "start_time = time.time()\n",
        "result_cplus_last = target_mean_v_cplus_last(data, 'y', 'x')\n",
        "end_time = time.time()\n",
        "\n",
        "print(\"cplus last version's total time:\", (end_time - start_time))\n",
        "print(result)\n",
        "\n",
        "diffv1 = np.linalg.norm(result_new1 - result_ori)\n",
        "diffv2 = np.linalg.norm(result_cplus - result_ori)\n",
        "diffv3 = np.linalg.norm(result_cplus_last - result_ori)\n",
        "print(\"v1's diff:\", diffv1)\n",
        "print(\"v2's diff:\", diffv2)\n",
        "print(\"v3's diff:\", diffv3)"
      ],
      "execution_count": null,
      "outputs": [
        {
          "output_type": "stream",
          "text": [
            "teacher's version total time: 0.054598331451416016\n",
            "[0.50867052 0.51282051 0.54761905 ... 0.51896208 0.5204918  0.50094877]\n",
            "new1 version's total time: 0.029440641403198242\n",
            "[0.50867052 0.51282051 0.54761905 ... 0.51896208 0.5204918  0.50094877]\n",
            "cplus version's total time: 0.012102842330932617\n",
            "[0.50867052 0.51282051 0.54761905 ... 0.51896208 0.5204918  0.50094877]\n",
            "cplus last version's total time: 0.012049436569213867\n",
            "[0.50867052 0.51282051 0.54761905 ... 0.51896208 0.5204918  0.50094877]\n",
            "v1's diff: 0.0\n",
            "v2's diff: 0.0\n",
            "v3's diff: 0.0\n"
          ],
          "name": "stdout"
        }
      ]
    }
  ]
}